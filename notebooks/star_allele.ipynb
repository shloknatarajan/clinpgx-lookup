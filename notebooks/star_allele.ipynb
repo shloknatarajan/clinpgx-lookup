{
 "cells": [
  {
   "cell_type": "code",
   "execution_count": 1,
   "id": "5aac1601",
   "metadata": {},
   "outputs": [
    {
     "name": "stdout",
     "output_type": "stream",
     "text": [
      "/Users/shloknatarajan/stanford/research/daneshjou/clinpgx-lookup\n"
     ]
    }
   ],
   "source": [
    "# Notebook Setup\n",
    "# Run this cell: \n",
    "# The lines below will instruct jupyter to reload imported modules before \n",
    "# executing code cells. This enables you to quickly iterate and test revisions\n",
    "# to your code without having to restart the kernel and reload all of your \n",
    "# modules each time you make a code change in a separate python file.\n",
    "\n",
    "%load_ext autoreload\n",
    "%autoreload 2\n",
    "\n",
    "import os\n",
    "\n",
    "# Change path to project root\n",
    "if os.getcwd().endswith(\"notebooks\"):\n",
    "    os.chdir(os.path.dirname(os.getcwd()))\n",
    "print(os.getcwd())"
   ]
  },
  {
   "cell_type": "code",
   "execution_count": 4,
   "id": "f74de13c",
   "metadata": {},
   "outputs": [],
   "source": [
    "from src.clinpgx_lookup.variant_search import VariantLookup"
   ]
  },
  {
   "cell_type": "code",
   "execution_count": 5,
   "id": "11c2f0df",
   "metadata": {},
   "outputs": [],
   "source": [
    "variant_lookup = VariantLookup()"
   ]
  },
  {
   "cell_type": "code",
   "execution_count": 6,
   "id": "f1f8f730",
   "metadata": {},
   "outputs": [
    {
     "ename": "TypeError",
     "evalue": "'VariantSearchResult' object is not subscriptable",
     "output_type": "error",
     "traceback": [
      "\u001b[0;31m---------------------------------------------------------------------------\u001b[0m",
      "\u001b[0;31mTypeError\u001b[0m                                 Traceback (most recent call last)",
      "Cell \u001b[0;32mIn[6], line 1\u001b[0m\n\u001b[0;32m----> 1\u001b[0m variant_lookup\u001b[38;5;241m.\u001b[39msearch(\u001b[38;5;124m\"\u001b[39m\u001b[38;5;124mUGT1A9*2\u001b[39m\u001b[38;5;124m\"\u001b[39m)\n",
      "File \u001b[0;32m~/stanford/research/daneshjou/clinpgx-lookup/src/clinpgx_lookup/variant_search.py:87\u001b[0m, in \u001b[0;36mVariantLookup.search\u001b[0;34m(self, variant, threshold, top_k)\u001b[0m\n\u001b[1;32m     85\u001b[0m     \u001b[38;5;28;01mreturn\u001b[39;00m \u001b[38;5;28mself\u001b[39m\u001b[38;5;241m.\u001b[39mrsid_lookup(variant, threshold\u001b[38;5;241m=\u001b[39mthreshold, top_k\u001b[38;5;241m=\u001b[39mtop_k)\n\u001b[1;32m     86\u001b[0m \u001b[38;5;28;01melse\u001b[39;00m:\n\u001b[0;32m---> 87\u001b[0m     \u001b[38;5;28;01mreturn\u001b[39;00m \u001b[38;5;28mself\u001b[39m\u001b[38;5;241m.\u001b[39mstar_lookup(variant, threshold\u001b[38;5;241m=\u001b[39mthreshold, top_k\u001b[38;5;241m=\u001b[39mtop_k)\n",
      "File \u001b[0;32m~/stanford/research/daneshjou/clinpgx-lookup/src/clinpgx_lookup/variant_search.py:66\u001b[0m, in \u001b[0;36mVariantLookup.star_lookup\u001b[0;34m(self, star_allele, threshold, top_k)\u001b[0m\n\u001b[1;32m     64\u001b[0m results \u001b[38;5;241m=\u001b[39m pgkb_star_allele_search(star_allele, threshold\u001b[38;5;241m=\u001b[39mthreshold, top_k\u001b[38;5;241m=\u001b[39mtop_k)\n\u001b[1;32m     65\u001b[0m results\u001b[38;5;241m.\u001b[39mextend(\u001b[38;5;28mself\u001b[39m\u001b[38;5;241m.\u001b[39m_clinpgx_variant_search(star_allele, threshold\u001b[38;5;241m=\u001b[39mthreshold, top_k\u001b[38;5;241m=\u001b[39mtop_k))\n\u001b[0;32m---> 66\u001b[0m results\u001b[38;5;241m.\u001b[39msort(key\u001b[38;5;241m=\u001b[39m\u001b[38;5;28;01mlambda\u001b[39;00m x: x[\u001b[38;5;124m'\u001b[39m\u001b[38;5;124mscore\u001b[39m\u001b[38;5;124m'\u001b[39m], reverse\u001b[38;5;241m=\u001b[39m\u001b[38;5;28;01mTrue\u001b[39;00m)\n\u001b[1;32m     67\u001b[0m \u001b[38;5;28;01mif\u001b[39;00m results:\n\u001b[1;32m     68\u001b[0m     \u001b[38;5;28;01mreturn\u001b[39;00m [VariantSearchResult(raw_input\u001b[38;5;241m=\u001b[39mstar_allele, \u001b[38;5;28mid\u001b[39m\u001b[38;5;241m=\u001b[39mresult[\u001b[38;5;124m'\u001b[39m\u001b[38;5;124mVariant ID\u001b[39m\u001b[38;5;124m'\u001b[39m], name\u001b[38;5;241m=\u001b[39mresult[\u001b[38;5;124m'\u001b[39m\u001b[38;5;124mVariant Name\u001b[39m\u001b[38;5;124m'\u001b[39m], url\u001b[38;5;241m=\u001b[39m\u001b[38;5;124mf\u001b[39m\u001b[38;5;124m\"\u001b[39m\u001b[38;5;124mhttps://www.clinpgx.org/variant/\u001b[39m\u001b[38;5;132;01m{\u001b[39;00mresult[\u001b[38;5;124m'\u001b[39m\u001b[38;5;124mVariant ID\u001b[39m\u001b[38;5;124m'\u001b[39m]\u001b[38;5;132;01m}\u001b[39;00m\u001b[38;5;124m\"\u001b[39m, score\u001b[38;5;241m=\u001b[39mresult[\u001b[38;5;124m'\u001b[39m\u001b[38;5;124mscore\u001b[39m\u001b[38;5;124m'\u001b[39m]) \u001b[38;5;28;01mfor\u001b[39;00m result \u001b[38;5;129;01min\u001b[39;00m results[:top_k]]\n",
      "File \u001b[0;32m~/stanford/research/daneshjou/clinpgx-lookup/src/clinpgx_lookup/variant_search.py:66\u001b[0m, in \u001b[0;36mVariantLookup.star_lookup.<locals>.<lambda>\u001b[0;34m(x)\u001b[0m\n\u001b[1;32m     64\u001b[0m results \u001b[38;5;241m=\u001b[39m pgkb_star_allele_search(star_allele, threshold\u001b[38;5;241m=\u001b[39mthreshold, top_k\u001b[38;5;241m=\u001b[39mtop_k)\n\u001b[1;32m     65\u001b[0m results\u001b[38;5;241m.\u001b[39mextend(\u001b[38;5;28mself\u001b[39m\u001b[38;5;241m.\u001b[39m_clinpgx_variant_search(star_allele, threshold\u001b[38;5;241m=\u001b[39mthreshold, top_k\u001b[38;5;241m=\u001b[39mtop_k))\n\u001b[0;32m---> 66\u001b[0m results\u001b[38;5;241m.\u001b[39msort(key\u001b[38;5;241m=\u001b[39m\u001b[38;5;28;01mlambda\u001b[39;00m x: x[\u001b[38;5;124m'\u001b[39m\u001b[38;5;124mscore\u001b[39m\u001b[38;5;124m'\u001b[39m], reverse\u001b[38;5;241m=\u001b[39m\u001b[38;5;28;01mTrue\u001b[39;00m)\n\u001b[1;32m     67\u001b[0m \u001b[38;5;28;01mif\u001b[39;00m results:\n\u001b[1;32m     68\u001b[0m     \u001b[38;5;28;01mreturn\u001b[39;00m [VariantSearchResult(raw_input\u001b[38;5;241m=\u001b[39mstar_allele, \u001b[38;5;28mid\u001b[39m\u001b[38;5;241m=\u001b[39mresult[\u001b[38;5;124m'\u001b[39m\u001b[38;5;124mVariant ID\u001b[39m\u001b[38;5;124m'\u001b[39m], name\u001b[38;5;241m=\u001b[39mresult[\u001b[38;5;124m'\u001b[39m\u001b[38;5;124mVariant Name\u001b[39m\u001b[38;5;124m'\u001b[39m], url\u001b[38;5;241m=\u001b[39m\u001b[38;5;124mf\u001b[39m\u001b[38;5;124m\"\u001b[39m\u001b[38;5;124mhttps://www.clinpgx.org/variant/\u001b[39m\u001b[38;5;132;01m{\u001b[39;00mresult[\u001b[38;5;124m'\u001b[39m\u001b[38;5;124mVariant ID\u001b[39m\u001b[38;5;124m'\u001b[39m]\u001b[38;5;132;01m}\u001b[39;00m\u001b[38;5;124m\"\u001b[39m, score\u001b[38;5;241m=\u001b[39mresult[\u001b[38;5;124m'\u001b[39m\u001b[38;5;124mscore\u001b[39m\u001b[38;5;124m'\u001b[39m]) \u001b[38;5;28;01mfor\u001b[39;00m result \u001b[38;5;129;01min\u001b[39;00m results[:top_k]]\n",
      "\u001b[0;31mTypeError\u001b[0m: 'VariantSearchResult' object is not subscriptable"
     ]
    }
   ],
   "source": [
    "variant_lookup.search(\"UGT1A9*2\")"
   ]
  },
  {
   "cell_type": "code",
   "execution_count": null,
   "id": "6e24b714",
   "metadata": {},
   "outputs": [],
   "source": []
  }
 ],
 "metadata": {
  "kernelspec": {
   "display_name": "base",
   "language": "python",
   "name": "python3"
  },
  "language_info": {
   "codemirror_mode": {
    "name": "ipython",
    "version": 3
   },
   "file_extension": ".py",
   "mimetype": "text/x-python",
   "name": "python",
   "nbconvert_exporter": "python",
   "pygments_lexer": "ipython3",
   "version": "3.12.2"
  }
 },
 "nbformat": 4,
 "nbformat_minor": 5
}
