{
 "cells": [
  {
   "cell_type": "code",
   "execution_count": 1,
   "id": "5aac1601",
   "metadata": {},
   "outputs": [
    {
     "name": "stdout",
     "output_type": "stream",
     "text": [
      "/Users/shloknatarajan/stanford/research/daneshjou/clinpgx-lookup\n"
     ]
    }
   ],
   "source": [
    "# Notebook Setup\n",
    "# Run this cell: \n",
    "# The lines below will instruct jupyter to reload imported modules before \n",
    "# executing code cells. This enables you to quickly iterate and test revisions\n",
    "# to your code without having to restart the kernel and reload all of your \n",
    "# modules each time you make a code change in a separate python file.\n",
    "\n",
    "%load_ext autoreload\n",
    "%autoreload 2\n",
    "\n",
    "import os\n",
    "\n",
    "# Change path to project root\n",
    "if os.getcwd().endswith(\"notebooks\"):\n",
    "    os.chdir(os.path.dirname(os.getcwd()))\n",
    "print(os.getcwd())"
   ]
  },
  {
   "cell_type": "code",
   "execution_count": 5,
   "id": "a2bc8e51",
   "metadata": {},
   "outputs": [
    {
     "name": "stderr",
     "output_type": "stream",
     "text": [
      "[autoreload of src.clinpgx_lookup.star_allele_search failed: Traceback (most recent call last):\n",
      "  File \"/Users/shloknatarajan/miniconda3/lib/python3.12/site-packages/IPython/extensions/autoreload.py\", line 276, in check\n",
      "    superreload(m, reload, self.old_objects)\n",
      "  File \"/Users/shloknatarajan/miniconda3/lib/python3.12/site-packages/IPython/extensions/autoreload.py\", line 475, in superreload\n",
      "    module = reload(module)\n",
      "             ^^^^^^^^^^^^^^\n",
      "  File \"/Users/shloknatarajan/miniconda3/lib/python3.12/importlib/__init__.py\", line 131, in reload\n",
      "    _bootstrap._exec(spec, module)\n",
      "  File \"<frozen importlib._bootstrap>\", line 866, in _exec\n",
      "  File \"<frozen importlib._bootstrap_external>\", line 995, in exec_module\n",
      "  File \"<frozen importlib._bootstrap>\", line 488, in _call_with_frames_removed\n",
      "  File \"/Users/shloknatarajan/stanford/research/daneshjou/clinpgx-lookup/src/clinpgx_lookup/star_allele_search.py\", line 14, in <module>\n",
      "    def pgkb_star_allele_search(star_allele: str, threshold: float = 0.8, top_k: int = 1) -> Optional[List[DrugSearchResult]]:\n",
      "                                                                                                           ^^^^^^^^^^^^^^^^\n",
      "NameError: name 'DrugSearchResult' is not defined\n",
      "]\n"
     ]
    }
   ],
   "source": [
    "from src.clinpgx_lookup.star_allele_search import pgkb_star_allele_search"
   ]
  },
  {
   "cell_type": "code",
   "execution_count": 4,
   "id": "7aac9ae8",
   "metadata": {},
   "outputs": [
    {
     "data": {
      "text/plain": [
       "[DrugSearchResult(id='PA166117679', name='UGT1A9*2', url='https://www.clinpgx.org/haplotype/PA166117679', score=1.0)]"
      ]
     },
     "execution_count": 4,
     "metadata": {},
     "output_type": "execute_result"
    }
   ],
   "source": [
    "pgkb_star_allele_search(\"UGT1A9*2\")"
   ]
  },
  {
   "cell_type": "code",
   "execution_count": null,
   "id": "f74de13c",
   "metadata": {},
   "outputs": [],
   "source": []
  }
 ],
 "metadata": {
  "kernelspec": {
   "display_name": "base",
   "language": "python",
   "name": "python3"
  },
  "language_info": {
   "codemirror_mode": {
    "name": "ipython",
    "version": 3
   },
   "file_extension": ".py",
   "mimetype": "text/x-python",
   "name": "python",
   "nbconvert_exporter": "python",
   "pygments_lexer": "ipython3",
   "version": "3.12.2"
  }
 },
 "nbformat": 4,
 "nbformat_minor": 5
}
