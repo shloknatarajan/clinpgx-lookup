{
 "cells": [
  {
   "cell_type": "code",
   "execution_count": 24,
   "id": "e4c4738d",
   "metadata": {},
   "outputs": [
    {
     "name": "stdout",
     "output_type": "stream",
     "text": [
      "The autoreload extension is already loaded. To reload it, use:\n",
      "  %reload_ext autoreload\n",
      "/Users/shloknatarajan/stanford/research/daneshjou/clinpgx-lookup\n"
     ]
    }
   ],
   "source": [
    "# Notebook Setup\n",
    "# Run this cell: \n",
    "# The lines below will instruct jupyter to reload imported modules before \n",
    "# executing code cells. This enables you to quickly iterate and test revisions\n",
    "# to your code without having to restart the kernel and reload all of your \n",
    "# modules each time you make a code change in a separate python file.\n",
    "\n",
    "%load_ext autoreload\n",
    "%autoreload 2\n",
    "\n",
    "import os\n",
    "\n",
    "# Change path to project root\n",
    "if os.getcwd().endswith(\"notebooks\"):\n",
    "    os.chdir(os.path.dirname(os.getcwd()))\n",
    "print(os.getcwd())"
   ]
  },
  {
   "cell_type": "code",
   "execution_count": 25,
   "id": "f261ba19",
   "metadata": {},
   "outputs": [],
   "source": [
    "from src.clinpgx_lookup.term_lookup import ClinPGxTermLookup"
   ]
  },
  {
   "cell_type": "code",
   "execution_count": 26,
   "id": "cb971a28",
   "metadata": {},
   "outputs": [],
   "source": [
    "lookup = ClinPGxTermLookup()"
   ]
  },
  {
   "cell_type": "code",
   "execution_count": 28,
   "id": "ecf4298b",
   "metadata": {},
   "outputs": [
    {
     "ename": "TypeError",
     "evalue": "ClinPGxTermLookup.search() got an unexpected keyword argument 'cache'",
     "output_type": "error",
     "traceback": [
      "\u001b[0;31m---------------------------------------------------------------------------\u001b[0m",
      "\u001b[0;31mTypeError\u001b[0m                                 Traceback (most recent call last)",
      "Cell \u001b[0;32mIn[28], line 2\u001b[0m\n\u001b[1;32m      1\u001b[0m lookup \u001b[38;5;241m=\u001b[39m ClinPGxTermLookup()\n\u001b[0;32m----> 2\u001b[0m results \u001b[38;5;241m=\u001b[39m lookup\u001b[38;5;241m.\u001b[39msearch(\u001b[38;5;124m\"\u001b[39m\u001b[38;5;124mdrug\u001b[39m\u001b[38;5;124m\"\u001b[39m, \u001b[38;5;124m\"\u001b[39m\u001b[38;5;124mabacavir\u001b[39m\u001b[38;5;124m\"\u001b[39m, threshold\u001b[38;5;241m=\u001b[39m\u001b[38;5;241m0.6\u001b[39m, top_k\u001b[38;5;241m=\u001b[39m\u001b[38;5;241m10\u001b[39m, cache\u001b[38;5;241m=\u001b[39m\u001b[38;5;28;01mFalse\u001b[39;00m)\n",
      "\u001b[0;31mTypeError\u001b[0m: ClinPGxTermLookup.search() got an unexpected keyword argument 'cache'"
     ]
    }
   ],
   "source": [
    "lookup = ClinPGxTermLookup()\n",
    "results = lookup.search(\"drug\", \"abacavir\", threshold=0.6, top_k=10, cache=False)"
   ]
  },
  {
   "cell_type": "code",
   "execution_count": 22,
   "id": "84b745b7",
   "metadata": {},
   "outputs": [
    {
     "data": {
      "text/plain": [
       "[ClinPGxMatch(id='PA448004', name='abacavir', score=1.0),\n",
       " ClinPGxMatch(id='PA166184501', name='abacavir', score=1.0),\n",
       " ClinPGxMatch(id='PA166184503', name='abacavir', score=1.0)]"
      ]
     },
     "execution_count": 22,
     "metadata": {},
     "output_type": "execute_result"
    }
   ],
   "source": [
    "results"
   ]
  },
  {
   "cell_type": "code",
   "execution_count": null,
   "id": "ee6592a8",
   "metadata": {},
   "outputs": [],
   "source": []
  }
 ],
 "metadata": {
  "kernelspec": {
   "display_name": "base",
   "language": "python",
   "name": "python3"
  },
  "language_info": {
   "codemirror_mode": {
    "name": "ipython",
    "version": 3
   },
   "file_extension": ".py",
   "mimetype": "text/x-python",
   "name": "python",
   "nbconvert_exporter": "python",
   "pygments_lexer": "ipython3",
   "version": "3.12.2"
  }
 },
 "nbformat": 4,
 "nbformat_minor": 5
}
