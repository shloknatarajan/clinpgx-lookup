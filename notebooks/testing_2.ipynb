{
 "cells": [
  {
   "cell_type": "code",
   "execution_count": 2,
   "id": "159bad1d",
   "metadata": {},
   "outputs": [
    {
     "name": "stdout",
     "output_type": "stream",
     "text": [
      "/Users/shloknatarajan/stanford/research/daneshjou/clinpgx-lookup\n"
     ]
    }
   ],
   "source": [
    "# Notebook Setup\n",
    "# Run this cell: \n",
    "# The lines below will instruct jupyter to reload imported modules before \n",
    "# executing code cells. This enables you to quickly iterate and test revisions\n",
    "# to your code without having to restart the kernel and reload all of your \n",
    "# modules each time you make a code change in a separate python file.\n",
    "\n",
    "%load_ext autoreload\n",
    "%autoreload 2\n",
    "\n",
    "import os\n",
    "\n",
    "# Change path to project root\n",
    "if os.getcwd().endswith(\"notebooks\"):\n",
    "    os.chdir(os.path.dirname(os.getcwd()))\n",
    "print(os.getcwd())"
   ]
  },
  {
   "cell_type": "code",
   "execution_count": 3,
   "id": "11ea10fb",
   "metadata": {},
   "outputs": [],
   "source": [
    "from src.clinpgx_lookup.utils import general_search"
   ]
  },
  {
   "cell_type": "code",
   "execution_count": 4,
   "id": "8a713031",
   "metadata": {},
   "outputs": [],
   "source": [
    "import pandas as pd\n",
    "df = pd.read_csv(\"clinpgx_data/drugs/drugs.tsv\", sep=\"\\t\")"
   ]
  },
  {
   "cell_type": "code",
   "execution_count": 5,
   "id": "4a421aa0",
   "metadata": {},
   "outputs": [
    {
     "data": {
      "text/plain": [
       "[{'PharmGKB Accession Id': 'PA449673',\n",
       "  'Name': 'fluoxetine',\n",
       "  'Generic Names': 'Fluoxetina [INN-Spanish], Fluoxetina [Spanish], Fluoxetine Hcl, Fluoxetine Hydrochloride, Fluoxetinum [INN-Latin]',\n",
       "  'score': 1.0},\n",
       " {'PharmGKB Accession Id': 'PA10066',\n",
       "  'Name': 'duloxetine',\n",
       "  'Generic Names': '(+-)-duloxetine, Duloxetine HCl, Duloxetine Hydrochloride',\n",
       "  'score': 0.8}]"
      ]
     },
     "execution_count": 5,
     "metadata": {},
     "output_type": "execute_result"
    }
   ],
   "source": [
    "general_search(df, query=\"fluoxetine\", column_name=\"Name\", id_column=\"PharmGKB Accession Id\", keep_columns=[\"PharmGKB Accession Id\", \"Name\", \"Generic Names\", \"score\"])"
   ]
  },
  {
   "cell_type": "code",
   "execution_count": null,
   "id": "2e7ada9b",
   "metadata": {},
   "outputs": [],
   "source": []
  }
 ],
 "metadata": {
  "kernelspec": {
   "display_name": "base",
   "language": "python",
   "name": "python3"
  },
  "language_info": {
   "codemirror_mode": {
    "name": "ipython",
    "version": 3
   },
   "file_extension": ".py",
   "mimetype": "text/x-python",
   "name": "python",
   "nbconvert_exporter": "python",
   "pygments_lexer": "ipython3",
   "version": "3.12.2"
  }
 },
 "nbformat": 4,
 "nbformat_minor": 5
}
