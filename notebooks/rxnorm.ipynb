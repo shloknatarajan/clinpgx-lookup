{
 "cells": [
  {
   "cell_type": "code",
   "execution_count": 35,
   "metadata": {},
   "outputs": [
    {
     "name": "stdout",
     "output_type": "stream",
     "text": [
      "The autoreload extension is already loaded. To reload it, use:\n",
      "  %reload_ext autoreload\n",
      "/Users/shloknatarajan/stanford/research/daneshjou/clinpgx-lookup\n"
     ]
    }
   ],
   "source": [
    "# Notebook Setup\n",
    "# Run this cell: \n",
    "# The lines below will instruct jupyter to reload imported modules before \n",
    "# executing code cells. This enables you to quickly iterate and test revisions\n",
    "# to your code without having to restart the kernel and reload all of your \n",
    "# modules each time you make a code change in a separate python file.\n",
    "\n",
    "%load_ext autoreload\n",
    "%autoreload 2\n",
    "\n",
    "import os\n",
    "\n",
    "# Change path to project root\n",
    "if os.getcwd().endswith(\"notebooks\"):\n",
    "    os.chdir(os.path.dirname(os.getcwd()))\n",
    "print(os.getcwd())"
   ]
  },
  {
   "cell_type": "code",
   "execution_count": 37,
   "metadata": {},
   "outputs": [],
   "source": [
    "from src.clinpgx_lookup.drug_search import DrugSearchResult"
   ]
  },
  {
   "cell_type": "code",
   "execution_count": 38,
   "metadata": {},
   "outputs": [],
   "source": [
    "drug_lookup = DrugLookup()"
   ]
  },
  {
   "cell_type": "code",
   "execution_count": 39,
   "metadata": {},
   "outputs": [
    {
     "data": {
      "text/plain": [
       "[DrugSearchResult(raw_input='abacavir', id='PA448004', name='abacavir', url='https://www.clinpgx.org/chemical/PA448004', score=1.0)]"
      ]
     },
     "execution_count": 39,
     "metadata": {},
     "output_type": "execute_result"
    }
   ],
   "source": [
    "drug_lookup.search(\"abacavir\")"
   ]
  },
  {
   "cell_type": "code",
   "execution_count": 41,
   "metadata": {},
   "outputs": [
    {
     "data": {
      "text/plain": [
       "[DrugSearchResult(raw_input='azithromycin', id='PA448519', name='azithromycin', url='https://www.clinpgx.org/chemical/PA448519', score=1.0),\n",
       " DrugSearchResult(raw_input='azithromycin', id='PA449028', name='clarithromycin', url='https://www.clinpgx.org/chemical/PA449028', score=0.8461538461538461),\n",
       " DrugSearchResult(raw_input='azithromycin', id='PA449368', name='dirithromycin', url='https://www.clinpgx.org/chemical/PA449368', score=0.8),\n",
       " DrugSearchResult(raw_input='azithromycin', id='PA164750505', name='roxithromycin', url='https://www.clinpgx.org/chemical/PA164750505', score=0.8),\n",
       " DrugSearchResult(raw_input='azithromycin', id='PA166165147', name='solithromycin', url='https://www.clinpgx.org/chemical/PA166165147', score=0.8),\n",
       " DrugSearchResult(raw_input='azithromycin', id='PA10202', name='telithromycin', url='https://www.clinpgx.org/chemical/PA10202', score=0.8)]"
      ]
     },
     "execution_count": 41,
     "metadata": {},
     "output_type": "execute_result"
    }
   ],
   "source": [
    "drug_lookup.search(\"azithromycin\")"
   ]
  },
  {
   "cell_type": "code",
   "execution_count": null,
   "metadata": {},
   "outputs": [],
   "source": []
  }
 ],
 "metadata": {
  "kernelspec": {
   "display_name": "base",
   "language": "python",
   "name": "python3"
  },
  "language_info": {
   "codemirror_mode": {
    "name": "ipython",
    "version": 3
   },
   "file_extension": ".py",
   "mimetype": "text/x-python",
   "name": "python",
   "nbconvert_exporter": "python",
   "pygments_lexer": "ipython3",
   "version": "3.12.2"
  }
 },
 "nbformat": 4,
 "nbformat_minor": 2
}
